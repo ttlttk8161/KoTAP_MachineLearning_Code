{
 "cells": [
  {
   "cell_type": "markdown",
   "id": "27daeffe",
   "metadata": {},
   "source": [
    "# CatBoostRegression Year column embedding    \n",
    "    1. Year column embedding code to preserve time series properties.\n",
    "    2. stock별 시계열패턴을 모델이 학습할수 있도록 작성된 코드."
   ]
  },
  {
   "cell_type": "code",
   "execution_count": 7,
   "id": "6c78db9a",
   "metadata": {},
   "outputs": [
    {
     "data": {
      "text/plain": [
       "<catboost.core.CatBoostRegressor at 0x78679d3f7b20>"
      ]
     },
     "execution_count": 7,
     "metadata": {},
     "output_type": "execute_result"
    }
   ],
   "source": [
    "import pandas as pd\n",
    "from catboost import CatBoostRegressor\n",
    "\n",
    "# CatBoost 다중 타겟: loss_function='MultiRMSE' 사용 (y shape: [n_samples, n_targets])\n",
    "model = CatBoostRegressor(\n",
    "    iterations=800,\n",
    "    max_depth=8,\n",
    "    learning_rate=0.06,\n",
    "    loss_function='MultiRMSE',  # 다중 회귀 손실\n",
    "    eval_metric='MultiRMSE',\n",
    "    task_type='GPU',   # GPU 사용\n",
    "    devices='0',\n",
    "    boosting_type='Plain',\n",
    "    random_seed=42,\n",
    "    early_stopping_rounds=80,\n",
    "    verbose=100\n",
    ")\n",
    "model"
   ]
  },
  {
   "cell_type": "code",
   "execution_count": 8,
   "id": "ab950b72",
   "metadata": {},
   "outputs": [],
   "source": [
    "# Set target_columns\n",
    "target_columns = ['CETR', 'GETR', 'TSTA', 'TSDA']"
   ]
  },
  {
   "cell_type": "code",
   "execution_count": null,
   "id": "09b75917",
   "metadata": {},
   "outputs": [
    {
     "data": {
      "text/plain": [
       "(12653, 65)"
      ]
     },
     "execution_count": 9,
     "metadata": {},
     "output_type": "execute_result"
    }
   ],
   "source": [
    "# Load CSV file\n",
    "df = pd.read_csv('../data_result/KoTaP_Dataset.csv')\n",
    "df.shape"
   ]
  },
  {
   "cell_type": "code",
   "execution_count": 10,
   "id": "35926dcb",
   "metadata": {},
   "outputs": [
    {
     "name": "stdout",
     "output_type": "stream",
     "text": [
      "name        category\n",
      "stock       category\n",
      "year           int64\n",
      "KOSPI       category\n",
      "fnd_year       int64\n",
      "              ...   \n",
      "A_CETR       float64\n",
      "A_GETR3      float64\n",
      "A_CETR3      float64\n",
      "A_GETR5      float64\n",
      "A_CETR5      float64\n",
      "Length: 65, dtype: object\n"
     ]
    }
   ],
   "source": [
    "# Set categorical_cols\n",
    "categorical_cols = ['name', 'stock', 'KOSPI', 'big4', 'LOSS', 'ind']\n",
    "for col in categorical_cols:\n",
    "    df[col] = df[col].astype('category')\n",
    "\n",
    "print(df.dtypes)"
   ]
  },
  {
   "cell_type": "code",
   "execution_count": 11,
   "id": "2c15d314",
   "metadata": {},
   "outputs": [],
   "source": [
    "# Time-series aware encoding & global cutoff split (2011~2023 train, 2024 test)\n",
    "import numpy as np\n",
    "from sklearn.metrics import r2_score, mean_absolute_error, root_mean_squared_error\n",
    "\n",
    "# ---- CONFIG ----\n",
    "STRICT_LAG = True  # True: 이전 해(year-1)가 있는 행(연속 연도)만 학습/평가 사용\n",
    "\n",
    "# 1. Year 기반 전역/종목별 트렌드 & 주기 인코딩\n",
    "year_min = df['year'].min()\n",
    "year_max = df['year'].max()\n",
    "\n",
    "# 전역 정규화 (0~1)\n",
    "df['year_norm_global'] = (df['year'] - year_min) / (year_max - year_min)\n",
    "\n",
    "# 종목별 시작 index (0부터), 상대적 진행도\n",
    "df['year_index_stock'] = df.groupby('stock', observed=True)['year'].rank(method='dense').astype(int) - 1\n",
    "# 종목별 상대적 진행도 (0~1)\n",
    "df['year_norm_stock'] = df['year_index_stock'] / df.groupby('stock', observed=True)['year_index_stock'].transform('max')\n",
    "\n",
    "# 주기성 (사이클) 표현: 한 전체 구간(2011~2024)을 하나의 2π 주기로 가정\n",
    "angle = 2 * np.pi * df['year_norm_global']\n",
    "df['year_sin'] = np.sin(angle)\n",
    "df['year_cos'] = np.cos(angle)\n",
    "\n",
    "# 2. Lag 특징 (1-step) 생성: 전체 df 기준(필터 이전) -> 제거된 연도의 값이 다음 해 lag로 사용 (Option A)\n",
    "exclude_for_lag = set(['name', 'stock', 'year'] + target_columns)\n",
    "num_cols_for_lag = [c for c in df.columns if c not in exclude_for_lag and df[c].dtype.kind in ['i','u','f']]\n",
    "for col in num_cols_for_lag:\n",
    "    df[f'{col}_lag1'] = df.groupby('stock', observed=True)[col].shift(1)\n",
    "\n",
    "# 2-1. 실제 연속 연도 여부 계산 (gap 정보)\n",
    "df['year_gap'] = df.groupby('stock', observed=True)['year'].diff()\n",
    "df['has_prev_year'] = df['year_gap'].eq(1)\n",
    "\n",
    "# 3. 전역 컷오프 기반 연도 분리 (Train: <=2023, Test: 2024)\n",
    "CUTOFF_TEST_YEAR = 2024\n",
    "train_mask_full = df['year'] < CUTOFF_TEST_YEAR\n",
    "full_test_mask = df['year'] == CUTOFF_TEST_YEAR\n",
    "\n",
    "train_df = df[train_mask_full].copy()\n",
    "test_df = df[full_test_mask].copy()\n",
    "\n",
    "# 4. 2024 테스트셋: 과거(2011~2023) 기록이 있는 종목만 사용 (seen stocks)\n",
    "seen_stocks = set(train_df['stock'].unique())\n",
    "seen_test_df = test_df[test_df['stock'].isin(seen_stocks)].copy()\n",
    "\n",
    "# 4-1. STRICT_LAG 적용: 직전 연도가 실제로 존재(연속)하는 행만 유지\n",
    "if STRICT_LAG:\n",
    "    before_train_rows = len(train_df)\n",
    "    before_test_rows = len(seen_test_df)\n",
    "    train_df = train_df[train_df['has_prev_year']].copy()\n",
    "    seen_test_df = seen_test_df[seen_test_df['has_prev_year']].copy()\n",
    "    removed_train = before_train_rows - len(train_df)\n",
    "    removed_test = before_test_rows - len(seen_test_df)\n",
    "else:\n",
    "    removed_train = 0\n",
    "    removed_test = 0\n",
    "\n",
    "# 5. Feature / Target 분리\n",
    "feature_drop = ['name', 'stock'] + target_columns\n",
    "X_train = train_df.drop(columns=feature_drop)\n",
    "X_test_seen = seen_test_df.drop(columns=feature_drop)\n",
    "y_train = train_df[target_columns]\n",
    "y_test_seen = seen_test_df[target_columns]\n",
    "\n",
    "# 6. Lag 결측 처리 (STRICT_LAG이므로 주로 첫 해 제거되어 NaN 적음)\n",
    "lag_cols = [c for c in X_train.columns if c.endswith('_lag1')]\n",
    "if lag_cols:\n",
    "    # 남아있는 NaN (혹시라도) 채우기\n",
    "    lag_medians = X_train[lag_cols].median()\n",
    "    X_train[lag_cols] = X_train[lag_cols].fillna(lag_medians)\n",
    "    X_test_seen[lag_cols] = X_test_seen[lag_cols].fillna(lag_medians)\n"
   ]
  },
  {
   "cell_type": "code",
   "execution_count": 13,
   "id": "b08a9ea7",
   "metadata": {},
   "outputs": [
    {
     "name": "stdout",
     "output_type": "stream",
     "text": [
      "Train years: 2012-2023 | Test year: 2024\n",
      "Cutoff and Seen stocks count in train_df: 1693\n",
      "STRICT_LAG: True | Removed train rows: 2472 | Removed test rows: 96\n",
      "Shapes -> Train: (9095, 125) SeenTest: (929, 125)\n",
      "Lag feature count: 59\n",
      "Sample feature cols: ['year', 'KOSPI', 'fnd_year', 'fiscal', 'ind', 'big4', 'forn', 'own', 'c_asset', 'inv', 'asset', 'sales']\n",
      "Saved: X_train.csv (9095, 125)\n"
     ]
    }
   ],
   "source": [
    "from catboost import Pool\n",
    "\n",
    "# 7. CatBoost Pool 생성 (category dtype 유지된 컬럼 식별)\n",
    "cat_feature_names = [c for c in X_train.columns if str(train_df[c].dtype) == 'category']\n",
    "cat_feature_indices = [X_train.columns.get_loc(c) for c in cat_feature_names]\n",
    "\n",
    "train_pool = Pool(data=X_train, label=y_train, cat_features=cat_feature_indices)\n",
    "valid_pool = Pool(data=X_test_seen, label=y_test_seen, cat_features=cat_feature_indices)\n",
    "\n",
    "print(f\"Train years: {int(train_df['year'].min())}-{int(train_df['year'].max())} | Test year: {CUTOFF_TEST_YEAR}\")\n",
    "print(f\"Cutoff and Seen stocks count in train_df: {len(seen_stocks)}\")\n",
    "print(\"STRICT_LAG:\", STRICT_LAG, f\"| Removed train rows: {removed_train} | Removed test rows: {removed_test}\")\n",
    "print(\"Shapes -> Train:\", X_train.shape, \"SeenTest:\", X_test_seen.shape)\n",
    "print(\"Lag feature count:\", len(lag_cols))\n",
    "print(\"Sample feature cols:\", X_train.columns[:12].tolist())\n",
    "\n",
    "X_train.to_csv('X_train.csv', index=True)\n",
    "print('Saved: X_train.csv', X_train.shape)"
   ]
  },
  {
   "cell_type": "code",
   "execution_count": null,
   "id": "50ba8298",
   "metadata": {},
   "outputs": [],
   "source": [
    "# 7. 모델 학습 & 평가 (CatBoost Pool 사용)\n",
    "model.fit(train_pool, eval_set=valid_pool, use_best_model=True)\n",
    "\n",
    "pred_seen = model.predict(valid_pool)  # shape: (n_samples, n_targets)\n",
    "print('[Seen Stocks 2024] R2:', r2_score(y_test_seen, pred_seen),\n",
    "      'MAE:', mean_absolute_error(y_test_seen, pred_seen),\n",
    "      'RMSE:', root_mean_squared_error(y_test_seen, pred_seen))"
   ]
  },
  {
   "cell_type": "code",
   "execution_count": null,
   "id": "2b76f7d5",
   "metadata": {},
   "outputs": [],
   "source": [
    "\n",
    "# 타겟별 상세\n",
    "print('\\nPer-target metrics:')\n",
    "for i, col in enumerate(target_columns):\n",
    "    r2_i = r2_score(y_test_seen[col], pred_seen[:, i])\n",
    "    mae_i = mean_absolute_error(y_test_seen[col], pred_seen[:, i])\n",
    "    rmse_i = root_mean_squared_error(y_test_seen[col], pred_seen[:, i])\n",
    "    print(f\"  {col}: R2={r2_i:.4f} MAE={mae_i:.4f} RMSE={rmse_i:.4f}\")\n",
    "\n",
    "# importance\n",
    "fi = pd.Series(model.feature_importances_, index=X_train.columns).sort_values(ascending=False)\n",
    "print('\\nTop 25 Feature Importances:')\n",
    "print(fi.head(25))"
   ]
  },
  {
   "cell_type": "code",
   "execution_count": null,
   "id": "86723d3e",
   "metadata": {},
   "outputs": [],
   "source": [
    "import matplotlib.pyplot as plt\n",
    "\n",
    "# 타겟별 성능지표 계산\n",
    "metrics = {'R2': [], 'MAE': [], 'RMSE': []}\n",
    "for i, col in enumerate(target_columns):\n",
    "    y_true = y_test_seen[col]\n",
    "    y_pred = pred_seen[:, i]\n",
    "    metrics['R2'].append(r2_score(y_true, y_pred))\n",
    "    metrics['MAE'].append(mean_absolute_error(y_true, y_pred))\n",
    "    metrics['RMSE'].append(root_mean_squared_error(y_true, y_pred))\n",
    "\n",
    "metrics_df = pd.DataFrame(metrics, index=target_columns)\n",
    "print(metrics_df)\n",
    "\n",
    "# 시각화\n",
    "fig, axes = plt.subplots(1, 3, figsize=(14, 4))\n",
    "for ax, metric in zip(axes, metrics_df.columns):\n",
    "    axes_idx = metrics_df[metric].plot(kind='bar', ax=ax, color='#4C72B0')\n",
    "    ax.set_title(metric)\n",
    "    ax.set_xticklabels(metrics_df.index, rotation=45, ha='right')\n",
    "    ax.grid(axis='y', linestyle='--', alpha=0.4)\n",
    "    for p in ax.patches:\n",
    "        val = p.get_height()\n",
    "        ax.annotate(f'{val:.3f}', (p.get_x() + p.get_width()/2, val),\n",
    "                    ha='center', va='bottom', fontsize=8, rotation=0)\n",
    "plt.tight_layout()\n",
    "plt.show()"
   ]
  },
  {
   "cell_type": "code",
   "execution_count": null,
   "id": "3cd22dda",
   "metadata": {},
   "outputs": [],
   "source": [
    "# 8. 결과 저장 (Seen test)\n",
    "import numpy as np\n",
    "results_df = pd.DataFrame(\n",
    "    data = np.hstack([y_test_seen.values, pred_seen]),\n",
    "    columns = [f'actual_{col}' for col in y_test_seen.columns] + [f'pred_{col}' for col in y_test_seen.columns],\n",
    "    index = y_test_seen.index,\n",
    ")\n",
    "results_df.to_csv('actual_vs_predicted_seen_2024_catboost.csv', index=True)\n",
    "print('Saved: actual_vs_predicted_seen_2024_catboost.csv')\n",
    "\n",
    "# Per-target metrics 저장\n",
    "metric_rows = []\n",
    "for i, col in enumerate(target_columns):\n",
    "    metric_rows.append({\n",
    "        'target': col,\n",
    "        'R2': r2_score(y_test_seen[col], pred_seen[:, i]),\n",
    "        'MAE': mean_absolute_error(y_test_seen[col], pred_seen[:, i]),\n",
    "        'RMSE': root_mean_squared_error(y_test_seen[col], pred_seen[:, i])\n",
    "    })\n",
    "metrics_df = pd.DataFrame(metric_rows)\n",
    "metrics_df.to_csv('CatBoost_metrics_seen_2024.csv', index=False)\n",
    "print('Saved: CatBoost_metrics_seen_2024.csv')"
   ]
  },
  {
   "cell_type": "markdown",
   "id": "ff15e8a2",
   "metadata": {},
   "source": [
    "## Reference site\n",
    "    지표 및 점수\n",
    "    https://scikit-learn.org/stable/modules/model_evaluation.html#model-evaluation\n",
    "    https://scikit-learn.org/stable/modules/model_evaluation.html#regression-metrics\n",
    "\n",
    "    [Training_Parameters] \n",
    "    1. https://catboost.ai/docs/en/references/training-parameters/\n",
    "    2. https://catboost.ai/docs/en/concepts/loss-functions-multiregression\n",
    "    3. https://catboost.ai/docs/en/concepts/python-reference_catboostregressor"
   ]
  }
 ],
 "metadata": {
  "kernelspec": {
   "display_name": "catboost",
   "language": "python",
   "name": "python3"
  },
  "language_info": {
   "codemirror_mode": {
    "name": "ipython",
    "version": 3
   },
   "file_extension": ".py",
   "mimetype": "text/x-python",
   "name": "python",
   "nbconvert_exporter": "python",
   "pygments_lexer": "ipython3",
   "version": "3.10.18"
  }
 },
 "nbformat": 4,
 "nbformat_minor": 5
}
