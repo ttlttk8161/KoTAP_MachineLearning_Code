{
 "cells": [
  {
   "cell_type": "code",
   "execution_count": null,
   "id": "dee7c4cf",
   "metadata": {},
   "outputs": [],
   "source": [
    "from xgboost import XGBClassifier"
   ]
  },
  {
   "cell_type": "code",
   "execution_count": 2,
   "id": "45ad86a4",
   "metadata": {},
   "outputs": [],
   "source": [
    "# read data\n",
    "from sklearn.datasets import load_iris\n",
    "from sklearn.model_selection import train_test_split"
   ]
  },
  {
   "cell_type": "code",
   "execution_count": null,
   "id": "9964be04",
   "metadata": {},
   "outputs": [],
   "source": [
    "data = load_iris()\n",
    "data"
   ]
  },
  {
   "cell_type": "code",
   "execution_count": null,
   "id": "4e94ea76",
   "metadata": {},
   "outputs": [],
   "source": [
    "# iris 데이터셋을 DataFrame으로 변환 후 csv로 저장\n",
    "import pandas as pd\n",
    "df_iris = pd.DataFrame(data['data'], columns=data['feature_names'])\n",
    "df_iris['target'] = data['target']\n",
    "df_iris.to_csv('iris.csv', index=False)"
   ]
  },
  {
   "cell_type": "code",
   "execution_count": null,
   "id": "65b45dab",
   "metadata": {},
   "outputs": [
    {
     "data": {
      "text/plain": [
       "array([1, 0, 1, 1, 0, 1, 0, 2, 0, 2, 1, 1, 2, 2, 1, 2, 0, 1, 1, 2, 1, 2,\n",
       "       1, 1, 0, 2, 1, 1, 0, 0, 0, 0, 2, 1, 2, 0, 1, 1, 0, 2, 0, 2, 2, 1,\n",
       "       0, 2, 2, 0, 1, 2, 0, 0, 2, 0, 2, 2, 0, 1, 1, 1, 2, 0, 0, 0, 0, 0,\n",
       "       0, 2, 0, 1, 2, 2, 1, 2, 2, 0, 0, 1, 0, 1, 0, 2, 0, 1, 2, 1, 2, 0,\n",
       "       0, 1, 0, 1, 2, 1, 1, 2, 2, 1, 2, 1, 2, 2, 1, 2, 2, 0, 0, 0, 1, 0,\n",
       "       0, 2, 1, 0, 1, 1, 2, 1, 1, 2])"
      ]
     },
     "execution_count": 10,
     "metadata": {},
     "output_type": "execute_result"
    }
   ],
   "source": [
    "X_train, X_test, y_train, y_test = train_test_split(data['data'], data['target'], test_size=.2)\n",
    "# train_test_split에 전달한 파라미터 문법은 다음과 같이 해석하면 됩니다.\n",
    "# X_train: 훈련 데이터의 입력 특성\n",
    "# X_test: 테스트 데이터의 입력 특성\n",
    "# y_train: 훈련 데이터의 타겟 값\n",
    "# y_test: 테스트 데이터의 타겟 값\n",
    "# 타겟값은 분류하고자 하는 레이블입니다.\n",
    "# 예를 들어, 붓꽃 데이터셋에서는 각 꽃의 품종이 타겟값이 됩니다.\n",
    "# 이와 같이 타겟값은 모델이 예측하고자 하는 결과를 나타냅니다.\n",
    "# train_test_split()함수의 매개변수에 대해 설명하겠습니다.\n",
    "# data['data']: 입력 특성 데이터\n",
    "# data['target']: 타겟 레이블 데이터\n",
    "# test_size: 테스트 데이터의 비율"
   ]
  },
  {
   "cell_type": "code",
   "execution_count": null,
   "id": "caf005ca",
   "metadata": {},
   "outputs": [],
   "source": [
    "# create model instance\n",
    "bst = XGBClassifier(n_estimators=2, max_depth=2, learning_rate=1, objective='binary:logistic')\n",
    "# fit model\n",
    "bst.fit(X_train, y_train)\n",
    "# make predictions\n",
    "preds = bst.predict(X_test)"
   ]
  }
 ],
 "metadata": {
  "kernelspec": {
   "display_name": "dh_xgboost",
   "language": "python",
   "name": "python3"
  },
  "language_info": {
   "codemirror_mode": {
    "name": "ipython",
    "version": 3
   },
   "file_extension": ".py",
   "mimetype": "text/x-python",
   "name": "python",
   "nbconvert_exporter": "python",
   "pygments_lexer": "ipython3",
   "version": "3.13.5"
  }
 },
 "nbformat": 4,
 "nbformat_minor": 5
}
